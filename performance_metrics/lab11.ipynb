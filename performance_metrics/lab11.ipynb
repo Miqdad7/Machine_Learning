{
 "cells": [
  {
   "cell_type": "code",
   "execution_count": 2,
   "metadata": {},
   "outputs": [],
   "source": [
    "import pandas as pd\n",
    "import numpy as np\n",
    "import matplotlib as mlp\n",
    "import matplotlib.pyplot as plt\n",
    "import matplotlib.cm as cm\n",
    "from sklearn.ensemble import RandomForestClassifier\n",
    "from sklearn.model_selection import train_test_split\n",
    "from sklearn import metrics"
   ]
  },
  {
   "cell_type": "code",
   "execution_count": 3,
   "metadata": {},
   "outputs": [],
   "source": [
    "pima_df=pd.read_csv('diabetes.csv')\n",
    "feature_cols=['Pregnancies', 'Insulin', 'BMI', 'Age','Glucose','BloodPressure', 'DiabetesPedigreeFunction']\n",
    "x=pima_df[feature_cols]\n",
    "y=pima_df['Outcome']"
   ]
  },
  {
   "cell_type": "code",
   "execution_count": 9,
   "metadata": {},
   "outputs": [
    {
     "name": "stdout",
     "output_type": "stream",
     "text": [
      "Train data: (614, 7),(614,)\n",
      "Test data: (154, 7),(154,)\n"
     ]
    }
   ],
   "source": [
    "x_train,x_test,y_train,y_test=train_test_split(x,y,test_size=0.2,random_state=24)\n",
    "print(f'Train data: {x_train.shape},{y_train.shape}')\n",
    "print(f'Test data: {x_test.shape},{y_test.shape}')  "
   ]
  },
  {
   "cell_type": "code",
   "execution_count": 14,
   "metadata": {},
   "outputs": [
    {
     "name": "stdout",
     "output_type": "stream",
     "text": [
      "Accuracy:0.7402597402597403\n",
      "Precision:0.7105263157894737\n",
      "F1 score: 0.574468085106383\n",
      "Confusion Matrix:\n",
      " [[87 11]\n",
      " [29 27]]\n"
     ]
    }
   ],
   "source": [
    "classifier=RandomForestClassifier(random_state=18)\n",
    "classifier.fit(x_train,y_train)\n",
    "y_pred=classifier.predict(x_test)\n",
    "print(f'Accuracy:{metrics.accuracy_score(y_test,y_pred)}')\n",
    "print(f'Precision:{metrics.precision_score(y_test,y_pred)}')\n",
    "print(f'F1 score: {metrics.f1_score(y_test,y_pred)}')\n",
    "confusion_matrix=metrics.confusion_matrix(y_test,y_pred)\n",
    "print(f'Confusion Matrix:\\n {confusion_matrix}')"
   ]
  },
  {
   "cell_type": "code",
   "execution_count": 16,
   "metadata": {},
   "outputs": [
    {
     "data": {
      "image/png": "[encoded data removed]",
      "text/plain": [
       "<Figure size 640x480 with 2 Axes>"
      ]
     },
     "metadata": {},
     "output_type": "display_data"
    },
    {
     "name": "stdout",
     "output_type": "stream",
     "text": [
      "Classification Report:\n",
      "              precision    recall  f1-score   support\n",
      "\n",
      "           0       0.75      0.89      0.81        98\n",
      "           1       0.71      0.48      0.57        56\n",
      "\n",
      "    accuracy                           0.74       154\n",
      "   macro avg       0.73      0.68      0.69       154\n",
      "weighted avg       0.74      0.74      0.73       154\n",
      "\n"
     ]
    }
   ],
   "source": [
    "cm_display=metrics.ConfusionMatrixDisplay(confusion_matrix=confusion_matrix,display_labels=[False,True])\n",
    "cm_display.plot()\n",
    "plt.show()\n",
    "class_report=metrics.classification_report(y_test,y_pred)\n",
    "print(\"Classification Report:\")\n",
    "print(class_report)"
   ]
  },
  {
   "cell_type": "code",
   "execution_count": null,
   "metadata": {},
   "outputs": [],
   "source": []
  }
 ],
 "metadata": {
  "kernelspec": {
   "display_name": "Python 3",
   "language": "python",
   "name": "python3"
  },
  "language_info": {
   "codemirror_mode": {
    "name": "ipython",
    "version": 3
   },
   "file_extension": ".py",
   "mimetype": "text/x-python",
   "name": "python",
   "nbconvert_exporter": "python",
   "pygments_lexer": "ipython3",
   "version": "3.12.4"
  }
 },
 "nbformat": 4,
 "nbformat_minor": 2
}
